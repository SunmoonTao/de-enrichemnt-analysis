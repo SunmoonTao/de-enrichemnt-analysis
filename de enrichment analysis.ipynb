{
 "cells": [
  {
   "cell_type": "code",
   "execution_count": 5,
   "metadata": {},
   "outputs": [],
   "source": [
    "from Bio.SeqUtils.ProtParam import ProteinAnalysis\n",
    "from Bio import SeqIO\n",
    "import csv, os\n",
    "import pandas as pd\n",
    "import xlsxwriter"
   ]
  },
  {
   "cell_type": "markdown",
   "metadata": {},
   "source": [
    "# download all reference of proteome for each species  in the format of fasta to a folder"
   ]
  },
  {
   "cell_type": "code",
   "execution_count": 10,
   "metadata": {},
   "outputs": [],
   "source": [
    "os.chdir(os.curdir)"
   ]
  },
  {
   "cell_type": "code",
   "execution_count": 18,
   "metadata": {},
   "outputs": [
    {
     "name": "stdout",
     "output_type": "stream",
     "text": [
      "\u001b[31mArabidopsis.fasta\u001b[m\u001b[m*                    \u001b[31mecoli.fasta_slected.xlsx\u001b[m\u001b[m*\r\n",
      "\u001b[31mArabidopsis.fasta_slected.xlsx\u001b[m\u001b[m*       \u001b[31mgorila.fasta\u001b[m\u001b[m*\r\n",
      "\u001b[34mArchive 2\u001b[m\u001b[m/                            \u001b[31mgorila.fasta_slected.xlsx\u001b[m\u001b[m*\r\n",
      "\u001b[31mArchive 2.zip\u001b[m\u001b[m*                        \u001b[31mhuman.fasta\u001b[m\u001b[m*\r\n",
      "\u001b[34mFLAT_FILES_072010\u001b[m\u001b[m/                    \u001b[31mhuman.fasta_slected.xlsx\u001b[m\u001b[m*\r\n",
      "\u001b[31mMacaca.fasta\u001b[m\u001b[m*                         \u001b[31mmouse.fasta\u001b[m\u001b[m*\r\n",
      "\u001b[31mMacaca.fasta_slected.xlsx\u001b[m\u001b[m*            \u001b[31mmouse.fasta_slected.xlsx\u001b[m\u001b[m*\r\n",
      "\u001b[31mProtein Analysis-common-models.ipynb\u001b[m\u001b[m* \u001b[31mrice.fasta\u001b[m\u001b[m*\r\n",
      "\u001b[31mRattus.fasta\u001b[m\u001b[m*                         \u001b[31mrice.fasta_slected.xlsx\u001b[m\u001b[m*\r\n",
      "\u001b[31mRattus.fasta_slected.xlsx\u001b[m\u001b[m*            \u001b[31mxenopus.fasta\u001b[m\u001b[m*\r\n",
      "\u001b[31mcelegans.fasta\u001b[m\u001b[m*                       \u001b[31mxenopus.fasta_slected.xlsx\u001b[m\u001b[m*\r\n",
      "\u001b[31mcelegans.fasta_slected.xlsx\u001b[m\u001b[m*          \u001b[31myeast.fasta\u001b[m\u001b[m*\r\n",
      "\u001b[31mdrosophila.fasta\u001b[m\u001b[m*                     \u001b[31myeast.fasta_slected.xlsx\u001b[m\u001b[m*\r\n",
      "\u001b[31mdrosophila.fasta_slected.xlsx\u001b[m\u001b[m*        \u001b[31mzebrafish.fasta\u001b[m\u001b[m*\r\n",
      "\u001b[31mecoli.fasta\u001b[m\u001b[m*                          \u001b[31mzebrafish.fasta_slected.xlsx\u001b[m\u001b[m*\r\n"
     ]
    }
   ],
   "source": [
    "ls "
   ]
  },
  {
   "cell_type": "code",
   "execution_count": 13,
   "metadata": {},
   "outputs": [],
   "source": [
    "def list_files(file_path='./', file_ext = 'pdf'):\n",
    "    ### list chosen file types in a folder, output into a list\n",
    "    from os import listdir\n",
    "    from os.path import isfile, join\n",
    "    all_files = [f for f in listdir(file_path) if isfile(join(file_path, f))]\n",
    "    pdf_files = [x for x in all_files if x[-len(file_ext):] == file_ext ] \n",
    "#     for pdf in pdf_files:\n",
    "#         print (pdf)\n",
    "    return pdf_files"
   ]
  },
  {
   "cell_type": "code",
   "execution_count": 19,
   "metadata": {},
   "outputs": [],
   "source": [
    "protein_refs=list_files(file_ext='fasta')"
   ]
  },
  {
   "cell_type": "code",
   "execution_count": 20,
   "metadata": {},
   "outputs": [
    {
     "data": {
      "text/plain": [
       "['Macaca.fasta',\n",
       " 'celegans.fasta',\n",
       " 'yeast.fasta',\n",
       " 'drosophila.fasta',\n",
       " 'Arabidopsis.fasta',\n",
       " 'mouse.fasta',\n",
       " 'ecoli.fasta',\n",
       " 'human.fasta',\n",
       " 'Rattus.fasta',\n",
       " 'zebrafish.fasta',\n",
       " 'xenopus.fasta',\n",
       " 'gorila.fasta',\n",
       " 'rice.fasta']"
      ]
     },
     "execution_count": 20,
     "metadata": {},
     "output_type": "execute_result"
    }
   ],
   "source": [
    "protein_refs"
   ]
  },
  {
   "cell_type": "code",
   "execution_count": 16,
   "metadata": {},
   "outputs": [],
   "source": [
    "def select_poly_de_proteins(ref_fasta):\n",
    "    record_dict = SeqIO.to_dict(SeqIO.parse(ref_fasta, \"fasta\"))\n",
    "    selected = dict()\n",
    "    for rid, record in record_dict.items():\n",
    "    #     print (rid, record)\n",
    "        my_seq=str(record.seq.upper())\n",
    "        tmp=dict()\n",
    "        tmp['full_seq']=my_seq\n",
    "    #     tmp[\"rid\"]=rid\n",
    "    #     print (type(my_seq))\n",
    "        i=0\n",
    "        threthold = 40\n",
    "        window_size=70\n",
    "        hit=list()\n",
    "        while i+window_size < len(my_seq):\n",
    "            curr_seq=my_seq[i:i+window_size]\n",
    "            ttmp=dict()\n",
    "            analysed_seq = ProteinAnalysis(curr_seq)\n",
    "            count_dict= analysed_seq.count_amino_acids()\n",
    "            if count_dict['D'] + count_dict[\"E\"] >=threthold:\n",
    "                tmp['D']=count_dict['D']\n",
    "                tmp['E']=count_dict['E']\n",
    "                tmp['D_E']=count_dict['D']+count_dict['E']\n",
    "                tmp['start']=i\n",
    "                tmp['end']=i+window_size\n",
    "                \n",
    "                ttmp['D']=count_dict['D']\n",
    "                ttmp['E']=count_dict['E']\n",
    "                ttmp['D_E']=count_dict['D']+count_dict['E']\n",
    "                ttmp['start']=i\n",
    "                ttmp['end']=i+window_size\n",
    "                hit.append(ttmp)\n",
    "                tmp['all_hits']=hit    #             print (count_dic['D'], count_dic['E'])\n",
    "            else:\n",
    "                pass\n",
    "            i=i+1\n",
    "        if len(tmp) >1:\n",
    "            selected[rid] = tmp\n",
    "    # print (len(selected))\n",
    "    selected_df=pd.DataFrame(selected)\n",
    "    selected_df=selected_df.transpose()\n",
    "    columns_to_write=selected_df.columns.values\n",
    "    output_name='{}_slected.xlsx'.format(str(ref_fasta))\n",
    "    writer = pd.ExcelWriter(output_name, engine='xlsxwriter')\n",
    "    # Write ddeach dataframe to a different worksheet.\n",
    "    selected_df.to_excel(writer, sheet_name='D_E40_70')\n",
    "    # Close the Pandas Excel writer and output the Excel file.\n",
    "    writer.save()\n",
    "    print (str(ref_fasta), len(selected))\n",
    "    return selected"
   ]
  },
  {
   "cell_type": "code",
   "execution_count": 24,
   "metadata": {},
   "outputs": [],
   "source": [
    "# ### Take multiple hits into consideration\n",
    "# def select_poly_de_proteins_multiple_hits(ref_fasta,de=40,window=70):\n",
    "#     record_dict = SeqIO.to_dict(SeqIO.parse(ref_fasta, \"fasta\"))\n",
    "#     selected = dict()\n",
    "#     for rid, record in record_dict.items():\n",
    "#     #     print (rid, record)\n",
    "#         my_seq=str(record.seq.upper())\n",
    "#         tmp=dict()\n",
    "#         tmp['full_seq']=my_seq\n",
    "#     #     tmp[\"rid\"]=rid\n",
    "#     #     print (type(my_seq))\n",
    "#         i=0\n",
    "#         threthold = de\n",
    "#         window_size=window\n",
    "#         hit=list()\n",
    "#         while i+window_size < len(my_seq):\n",
    "    \n",
    "#             ttmp=dict()\n",
    "#             curr_seq=my_seq[i:i+window_size]\n",
    "#     #         print (len(curr_seq))\n",
    "#             analysed_seq = ProteinAnalysis(curr_seq)\n",
    "#             count_dict= analysed_seq.count_amino_acids()\n",
    "#             if count_dict['D'] + count_dict[\"E\"] >=threthold:\n",
    "#                 ttmp['D']=count_dict['D']\n",
    "#                 ttmp['E']=count_dict['E']\n",
    "#                 ttmp['D_E']=count_dict['D']+count_dict['E']\n",
    "#                 ttmp['start']=i\n",
    "#                 ttmp['end']=i+window_size\n",
    "#                 hit.append(ttmp)\n",
    "#                 tmp['hit']=hit\n",
    "                \n",
    "#     #             print (count_dic['D'], count_dic['E'])\n",
    "#             else:\n",
    "#                 pass\n",
    "#             i=i+1\n",
    "#         if len(tmp) >1:\n",
    "#             selected[rid] = tmp\n",
    "#     # print (len(selected))\n",
    "#     selected_df=pd.DataFrame(selected)\n",
    "#     selected_df=selected_df.transpose()\n",
    "#     columns_to_write=selected_df.columns.values\n",
    "#     output_name='{}_slected_mutiple_hits.xlsx'.format(str(ref_fasta))\n",
    "#     writer = pd.ExcelWriter(output_name, engine='xlsxwriter')\n",
    "#     # Write ddeach dataframe to a different worksheet.\n",
    "#     selected_df.to_excel(writer, sheet_name='D_E40_70')\n",
    "#     # Close the Pandas Excel writer and output the Excel file.\n",
    "#     writer.save()\n",
    "#     print (ref_fasta, len(selected))\n",
    "#     return selected"
   ]
  },
  {
   "cell_type": "code",
   "execution_count": 32,
   "metadata": {},
   "outputs": [
    {
     "name": "stdout",
     "output_type": "stream",
     "text": [
      "Macaca.fasta 137\n",
      "celegans.fasta 57\n",
      "yeast.fasta 24\n",
      "drosophila.fasta 92\n",
      "Arabidopsis.fasta 73\n",
      "mouse.fasta 125\n",
      "ecoli.fasta 0\n",
      "human.fasta 107\n",
      "Rattus.fasta 116\n",
      "zebrafish.fasta 117\n",
      "xenopus.fasta 65\n",
      "gorila.fasta 136\n",
      "rice.fasta 42\n"
     ]
    }
   ],
   "source": [
    "poly_de_40_70 = dict()\n",
    "\n",
    "for ref in protein_refs:\n",
    "    poly_de_40_70[str(ref)]=select_poly_de_proteins(ref)\n",
    "\n",
    "    \n",
    "    "
   ]
  }
 ],
 "metadata": {
  "kernelspec": {
   "display_name": "Python 3",
   "language": "python",
   "name": "python3"
  },
  "language_info": {
   "codemirror_mode": {
    "name": "ipython",
    "version": 3
   },
   "file_extension": ".py",
   "mimetype": "text/x-python",
   "name": "python",
   "nbconvert_exporter": "python",
   "pygments_lexer": "ipython3",
   "version": "3.7.3"
  }
 },
 "nbformat": 4,
 "nbformat_minor": 2
}
