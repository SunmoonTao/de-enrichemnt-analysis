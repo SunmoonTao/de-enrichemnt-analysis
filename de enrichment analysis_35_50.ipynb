{
 "cells": [
  {
   "cell_type": "code",
   "execution_count": 1,
   "metadata": {},
   "outputs": [],
   "source": [
    "from Bio.SeqUtils.ProtParam import ProteinAnalysis\n",
    "from Bio import SeqIO\n",
    "import csv, os\n",
    "import pandas as pd\n",
    "import xlsxwriter"
   ]
  },
  {
   "cell_type": "markdown",
   "metadata": {},
   "source": [
    "# download all reference of proteome for each species  in the format of fasta to a folder"
   ]
  },
  {
   "cell_type": "code",
   "execution_count": 2,
   "metadata": {},
   "outputs": [],
   "source": [
    "os.chdir(os.curdir)"
   ]
  },
  {
   "cell_type": "code",
   "execution_count": 3,
   "metadata": {},
   "outputs": [
    {
     "name": "stdout",
     "output_type": "stream",
     "text": [
      " .textClipping                      de_35_50.zip\r\n",
      "1. Bacteriophage T4.fasta           \u001b[31mdrosophila.fasta\u001b[m\u001b[m*\r\n",
      "2. Hepatitis B Virus.fasta          \u001b[31mdrosophila.fasta_slected.xlsx\u001b[m\u001b[m*\r\n",
      "3. Poliovirus.fasta                 \u001b[31mecoli.fasta\u001b[m\u001b[m*\r\n",
      "4. HIV.fasta                        \u001b[31mecoli.fasta_slected.xlsx\u001b[m\u001b[m*\r\n",
      "5. Prion.fasta                      \u001b[31mgorila.fasta\u001b[m\u001b[m*\r\n",
      "\u001b[31mArabidopsis.fasta\u001b[m\u001b[m*                  \u001b[31mgorila.fasta_slected.xlsx\u001b[m\u001b[m*\r\n",
      "\u001b[31mArabidopsis.fasta_slected.xlsx\u001b[m\u001b[m*     \u001b[31mhuman.fasta\u001b[m\u001b[m*\r\n",
      "\u001b[31mMacaca.fasta\u001b[m\u001b[m*                       \u001b[31mhuman.fasta_slected.xlsx\u001b[m\u001b[m*\r\n",
      "\u001b[31mMacaca.fasta_slected.xlsx\u001b[m\u001b[m*          \u001b[31mmouse.fasta\u001b[m\u001b[m*\r\n",
      "README.md                           \u001b[31mmouse.fasta_slected.xlsx\u001b[m\u001b[m*\r\n",
      "\u001b[31mRattus.fasta\u001b[m\u001b[m*                       \u001b[31mrice.fasta\u001b[m\u001b[m*\r\n",
      "\u001b[31mRattus.fasta_slected.xlsx\u001b[m\u001b[m*          \u001b[31mrice.fasta_slected.xlsx\u001b[m\u001b[m*\r\n",
      "\u001b[31mcelegans.fasta\u001b[m\u001b[m*                     \u001b[31mxenopus.fasta\u001b[m\u001b[m*\r\n",
      "celegans.fasta_slected.xlsx         \u001b[31mxenopus.fasta_slected.xlsx\u001b[m\u001b[m*\r\n",
      "\u001b[31mde enrichment analysis.ipynb\u001b[m\u001b[m*       \u001b[31myeast.fasta\u001b[m\u001b[m*\r\n",
      "\u001b[31mde enrichment analysis_35_50.ipynb\u001b[m\u001b[m* \u001b[31myeast.fasta_slected.xlsx\u001b[m\u001b[m*\r\n",
      "\u001b[1m\u001b[36mde_27_36\u001b[m\u001b[m/                           \u001b[31mzebrafish.fasta\u001b[m\u001b[m*\r\n",
      "\u001b[1m\u001b[36mde_35_50\u001b[m\u001b[m/                           \u001b[31mzebrafish.fasta_slected.xlsx\u001b[m\u001b[m*\r\n"
     ]
    }
   ],
   "source": [
    "ls "
   ]
  },
  {
   "cell_type": "code",
   "execution_count": 4,
   "metadata": {},
   "outputs": [],
   "source": [
    "def list_files(file_path='./', file_ext = 'pdf'):\n",
    "    ### list chosen file types in a folder, output into a list\n",
    "    from os import listdir\n",
    "    from os.path import isfile, join\n",
    "    all_files = [f for f in listdir(file_path) if isfile(join(file_path, f))]\n",
    "    pdf_files = [x for x in all_files if x[-len(file_ext):] == file_ext ] \n",
    "#     for pdf in pdf_files:\n",
    "#         print (pdf)\n",
    "    return pdf_files"
   ]
  },
  {
   "cell_type": "code",
   "execution_count": 5,
   "metadata": {},
   "outputs": [],
   "source": [
    "protein_refs=list_files(file_ext='fasta')"
   ]
  },
  {
   "cell_type": "code",
   "execution_count": 6,
   "metadata": {},
   "outputs": [
    {
     "data": {
      "text/plain": [
       "['Macaca.fasta',\n",
       " 'celegans.fasta',\n",
       " 'yeast.fasta',\n",
       " 'drosophila.fasta',\n",
       " '3. Poliovirus.fasta',\n",
       " '1. Bacteriophage T4.fasta',\n",
       " '4. HIV.fasta',\n",
       " 'Arabidopsis.fasta',\n",
       " '5. Prion.fasta',\n",
       " 'mouse.fasta',\n",
       " 'ecoli.fasta',\n",
       " 'human.fasta',\n",
       " 'Rattus.fasta',\n",
       " 'zebrafish.fasta',\n",
       " 'xenopus.fasta',\n",
       " 'gorila.fasta',\n",
       " 'rice.fasta',\n",
       " '2. Hepatitis B Virus.fasta']"
      ]
     },
     "execution_count": 6,
     "metadata": {},
     "output_type": "execute_result"
    }
   ],
   "source": [
    "protein_refs"
   ]
  },
  {
   "cell_type": "code",
   "execution_count": 7,
   "metadata": {},
   "outputs": [],
   "source": [
    "def select_poly_de_proteins(ref_fasta,threthold=35,window_size=50,save_path='./de_output/'):\n",
    "    record_dict = SeqIO.to_dict(SeqIO.parse(ref_fasta, \"fasta\"))\n",
    "    selected = dict()\n",
    "    for rid, record in record_dict.items():\n",
    "    #     print (rid, record)\n",
    "        my_seq=str(record.seq.upper())\n",
    "        tmp=dict()\n",
    "        tmp['full_seq']=my_seq\n",
    "    #     tmp[\"rid\"]=rid\n",
    "    #     print (type(my_seq))\n",
    "        i=0\n",
    "        threthold = threthold\n",
    "        window_size = window_size\n",
    "        hit=list()\n",
    "        while i+window_size < len(my_seq):\n",
    "            curr_seq=my_seq[i:i+window_size]\n",
    "            ttmp=dict()\n",
    "            analysed_seq = ProteinAnalysis(curr_seq)\n",
    "            count_dict= analysed_seq.count_amino_acids()\n",
    "            if count_dict['D'] + count_dict[\"E\"] >=threthold:\n",
    "                tmp['D']=count_dict['D']\n",
    "                tmp['E']=count_dict['E']\n",
    "                tmp['D_E']=count_dict['D']+count_dict['E']\n",
    "                tmp['start']=i\n",
    "                tmp['end']=i+window_size\n",
    "                \n",
    "                ttmp['D']=count_dict['D']\n",
    "                ttmp['E']=count_dict['E']\n",
    "                ttmp['D_E']=count_dict['D']+count_dict['E']\n",
    "                ttmp['start']=i\n",
    "                ttmp['end']=i+window_size\n",
    "                hit.append(ttmp)\n",
    "                tmp['all_hits']=hit    #             print (count_dic['D'], count_dic['E'])\n",
    "            else:\n",
    "                pass\n",
    "            i=i+1\n",
    "        if len(tmp) >1:\n",
    "            selected[rid] = tmp\n",
    "    # print (len(selected))\n",
    "    selected_df=pd.DataFrame(selected)\n",
    "    selected_df=selected_df.transpose()\n",
    "    columns_to_write=selected_df.columns.values\n",
    "    output_name=save_path+'{}_slected.xlsx'.format(str(ref_fasta))\n",
    "    writer = pd.ExcelWriter(output_name, engine='xlsxwriter')\n",
    "    # Write ddeach dataframe to a different worksheet.\n",
    "    selected_df.to_excel(writer, sheet_name='D_E35_50')\n",
    "    # Close the Pandas Excel writer and output the Excel file.\n",
    "    writer.save()\n",
    "    print (str(ref_fasta), len(selected))\n",
    "    return selected"
   ]
  },
  {
   "cell_type": "code",
   "execution_count": 8,
   "metadata": {},
   "outputs": [],
   "source": [
    "!mkdir de_35_50\n",
    "save_path='./de_35_50/'"
   ]
  },
  {
   "cell_type": "code",
   "execution_count": 8,
   "metadata": {},
   "outputs": [],
   "source": [
    "save_path='./de_35_50/'"
   ]
  },
  {
   "cell_type": "code",
   "execution_count": 9,
   "metadata": {},
   "outputs": [
    {
     "data": {
      "text/plain": [
       "'/Users/ltao/gitsss/de-enrichemnt-analysis'"
      ]
     },
     "execution_count": 9,
     "metadata": {},
     "output_type": "execute_result"
    }
   ],
   "source": [
    "pwd"
   ]
  },
  {
   "cell_type": "code",
   "execution_count": 18,
   "metadata": {},
   "outputs": [
    {
     "name": "stdout",
     "output_type": "stream",
     "text": [
      "Macaca.fasta 88\n",
      "celegans.fasta 28\n",
      "yeast.fasta 18\n",
      "drosophila.fasta 69\n",
      "Arabidopsis.fasta 30\n",
      "mouse.fasta 85\n",
      "ecoli.fasta 0\n",
      "human.fasta 63\n",
      "Rattus.fasta 84\n",
      "zebrafish.fasta 72\n",
      "xenopus.fasta 38\n",
      "gorila.fasta 88\n",
      "rice.fasta 29\n"
     ]
    }
   ],
   "source": [
    "poly_de_35_50= dict()\n",
    "\n",
    "for ref in protein_refs:\n",
    "    poly_de_35_50[str(ref)]=select_poly_de_proteins(ref,35,50,save_path)\n",
    "\n",
    "    \n",
    "    "
   ]
  },
  {
   "cell_type": "code",
   "execution_count": 20,
   "metadata": {},
   "outputs": [
    {
     "name": "stdout",
     "output_type": "stream",
     "text": [
      "Macaca.fasta 130\n",
      "celegans.fasta 37\n",
      "yeast.fasta 23\n",
      "drosophila.fasta 85\n",
      "Arabidopsis.fasta 61\n",
      "mouse.fasta 124\n",
      "ecoli.fasta 0\n",
      "human.fasta 106\n",
      "Rattus.fasta 122\n",
      "zebrafish.fasta 120\n",
      "xenopus.fasta 69\n",
      "gorila.fasta 108\n",
      "rice.fasta 51\n"
     ]
    }
   ],
   "source": [
    "!mkdir de_27_36\n",
    "save_path='./de_27_36/'\n",
    "poly_de_35_50= dict()\n",
    "\n",
    "for ref in protein_refs:\n",
    "    poly_de_35_50[str(ref)]=select_poly_de_proteins(ref,27,36,save_path)\n",
    "\n",
    "    "
   ]
  },
  {
   "cell_type": "code",
   "execution_count": null,
   "metadata": {},
   "outputs": [],
   "source": [
    "## adding 5 virus refs"
   ]
  },
  {
   "cell_type": "code",
   "execution_count": 10,
   "metadata": {},
   "outputs": [],
   "source": [
    "virus=[ '3. Poliovirus.fasta',\n",
    " '1. Bacteriophage T4.fasta',\n",
    " '4. HIV.fasta',\n",
    " '5. Prion.fasta',\n",
    " '2. Hepatitis B Virus.fasta']"
   ]
  },
  {
   "cell_type": "code",
   "execution_count": 11,
   "metadata": {},
   "outputs": [
    {
     "name": "stdout",
     "output_type": "stream",
     "text": [
      "3. Poliovirus.fasta 0\n",
      "1. Bacteriophage T4.fasta 0\n",
      "4. HIV.fasta 0\n",
      "5. Prion.fasta 0\n",
      "2. Hepatitis B Virus.fasta 0\n"
     ]
    }
   ],
   "source": [
    "poly_de_35_50= dict()\n",
    "\n",
    "for ref in virus:\n",
    "    poly_de_35_50[str(ref)]=select_poly_de_proteins(ref,35,50,save_path)\n",
    "\n",
    "    \n",
    "    "
   ]
  },
  {
   "cell_type": "code",
   "execution_count": null,
   "metadata": {},
   "outputs": [],
   "source": [
    "# fix the sheetname"
   ]
  },
  {
   "cell_type": "code",
   "execution_count": 12,
   "metadata": {},
   "outputs": [],
   "source": [
    "xlsx=list_files(file_path='./de_35_50/',file_ext='xlsx')"
   ]
  },
  {
   "cell_type": "code",
   "execution_count": 16,
   "metadata": {},
   "outputs": [
    {
     "name": "stdout",
     "output_type": "stream",
     "text": [
      "Collecting openpyxl\n",
      "\u001b[?25l  Downloading https://files.pythonhosted.org/packages/d4/c5/1a5f82b3020bfb27f21b302f96c8ae6a34475070015d1b1e0b197a97e2af/openpyxl-3.0.6-py2.py3-none-any.whl (242kB)\n",
      "\u001b[K     |████████████████████████████████| 245kB 4.9MB/s eta 0:00:01\n",
      "\u001b[?25hCollecting jdcal (from openpyxl)\n",
      "  Downloading https://files.pythonhosted.org/packages/f0/da/572cbc0bc582390480bbd7c4e93d14dc46079778ed915b505dc494b37c57/jdcal-1.4.1-py2.py3-none-any.whl\n",
      "Collecting et-xmlfile (from openpyxl)\n",
      "  Downloading https://files.pythonhosted.org/packages/22/28/a99c42aea746e18382ad9fb36f64c1c1f04216f41797f2f0fa567da11388/et_xmlfile-1.0.1.tar.gz\n",
      "Building wheels for collected packages: et-xmlfile\n",
      "  Building wheel for et-xmlfile (setup.py) ... \u001b[?25ldone\n",
      "\u001b[?25h  Stored in directory: /Users/ltao/Library/Caches/pip/wheels/2a/77/35/0da0965a057698121fc7d8c5a7a9955cdbfb3cc4e2423cad39\n",
      "Successfully built et-xmlfile\n",
      "Installing collected packages: jdcal, et-xmlfile, openpyxl\n",
      "Successfully installed et-xmlfile-1.0.1 jdcal-1.4.1 openpyxl-3.0.6\n"
     ]
    }
   ],
   "source": [
    "# !pip install openpyxl\n"
   ]
  },
  {
   "cell_type": "code",
   "execution_count": 17,
   "metadata": {},
   "outputs": [
    {
     "name": "stderr",
     "output_type": "stream",
     "text": [
      "/Users/ltao/anaconda3/envs/deepseq/lib/python3.7/site-packages/ipykernel_launcher.py:7: DeprecationWarning: Call to deprecated function get_sheet_by_name (Use wb[sheetname]).\n",
      "  import sys\n"
     ]
    }
   ],
   "source": [
    "import openpyxl\n",
    "\n",
    "for x in xlsx:\n",
    "    file_loc = './de_35_50/'+ x\n",
    "    \n",
    "    ss = openpyxl.load_workbook(file_loc)\n",
    "    ss_sheet = ss.get_sheet_by_name('D_E40_70')\n",
    "    ss_sheet.title = 'DE_35_50'\n",
    "    ss.save(file_loc)"
   ]
  },
  {
   "cell_type": "code",
   "execution_count": null,
   "metadata": {},
   "outputs": [],
   "source": []
  }
 ],
 "metadata": {
  "kernelspec": {
   "display_name": "Python 3",
   "language": "python",
   "name": "python3"
  },
  "language_info": {
   "codemirror_mode": {
    "name": "ipython",
    "version": 3
   },
   "file_extension": ".py",
   "mimetype": "text/x-python",
   "name": "python",
   "nbconvert_exporter": "python",
   "pygments_lexer": "ipython3",
   "version": "3.7.3"
  }
 },
 "nbformat": 4,
 "nbformat_minor": 4
}
